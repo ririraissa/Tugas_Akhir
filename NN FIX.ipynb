{
 "cells": [
  {
   "cell_type": "code",
   "execution_count": 1873,
   "metadata": {},
   "outputs": [],
   "source": [
    "import tensorflow as tf\n",
    "import numpy as np\n",
    "import pandas as pd\n",
    "import matplotlib.pyplot as plt\n",
    "import tensorflow_hub as hub\n",
    "from sklearn.model_selection import train_test_split\n",
    "from sklearn.preprocessing import StandardScaler\n",
    "from imblearn.over_sampling import RandomOverSampler"
   ]
  },
  {
   "cell_type": "code",
   "execution_count": 1874,
   "metadata": {},
   "outputs": [],
   "source": [
    "df_train = pd.read_csv(\"TENSORFLOW_DATA.csv\")\n",
    "df_test = pd.read_csv(\"TENSORFLOW_TES.csv\")"
   ]
  },
  {
   "cell_type": "code",
   "execution_count": 1875,
   "metadata": {},
   "outputs": [
    {
     "data": {
      "text/html": [
       "<div>\n",
       "<style scoped>\n",
       "    .dataframe tbody tr th:only-of-type {\n",
       "        vertical-align: middle;\n",
       "    }\n",
       "\n",
       "    .dataframe tbody tr th {\n",
       "        vertical-align: top;\n",
       "    }\n",
       "\n",
       "    .dataframe thead th {\n",
       "        text-align: right;\n",
       "    }\n",
       "</style>\n",
       "<table border=\"1\" class=\"dataframe\">\n",
       "  <thead>\n",
       "    <tr style=\"text-align: right;\">\n",
       "      <th></th>\n",
       "      <th>(p) R</th>\n",
       "      <th>R (2)</th>\n",
       "      <th>R (5)</th>\n",
       "      <th>(p) G</th>\n",
       "      <th>G (2)</th>\n",
       "      <th>G (5)</th>\n",
       "      <th>(p) B</th>\n",
       "      <th>B (2)</th>\n",
       "      <th>B (5)</th>\n",
       "      <th>(p) GreyScale</th>\n",
       "      <th>GreyScale (2)</th>\n",
       "      <th>GreyScale (5)</th>\n",
       "      <th>garut</th>\n",
       "      <th>solo</th>\n",
       "    </tr>\n",
       "  </thead>\n",
       "  <tbody>\n",
       "    <tr>\n",
       "      <th>0</th>\n",
       "      <td>41</td>\n",
       "      <td>49</td>\n",
       "      <td>40</td>\n",
       "      <td>30</td>\n",
       "      <td>36</td>\n",
       "      <td>28</td>\n",
       "      <td>25</td>\n",
       "      <td>28</td>\n",
       "      <td>20</td>\n",
       "      <td>37</td>\n",
       "      <td>39</td>\n",
       "      <td>31</td>\n",
       "      <td>0</td>\n",
       "      <td>1</td>\n",
       "    </tr>\n",
       "    <tr>\n",
       "      <th>1</th>\n",
       "      <td>189</td>\n",
       "      <td>188</td>\n",
       "      <td>182</td>\n",
       "      <td>81</td>\n",
       "      <td>88</td>\n",
       "      <td>80</td>\n",
       "      <td>76</td>\n",
       "      <td>82</td>\n",
       "      <td>74</td>\n",
       "      <td>78</td>\n",
       "      <td>117</td>\n",
       "      <td>110</td>\n",
       "      <td>1</td>\n",
       "      <td>0</td>\n",
       "    </tr>\n",
       "    <tr>\n",
       "      <th>2</th>\n",
       "      <td>139</td>\n",
       "      <td>133</td>\n",
       "      <td>135</td>\n",
       "      <td>163</td>\n",
       "      <td>156</td>\n",
       "      <td>159</td>\n",
       "      <td>79</td>\n",
       "      <td>88</td>\n",
       "      <td>82</td>\n",
       "      <td>162</td>\n",
       "      <td>141</td>\n",
       "      <td>143</td>\n",
       "      <td>1</td>\n",
       "      <td>0</td>\n",
       "    </tr>\n",
       "    <tr>\n",
       "      <th>3</th>\n",
       "      <td>123</td>\n",
       "      <td>138</td>\n",
       "      <td>124</td>\n",
       "      <td>78</td>\n",
       "      <td>89</td>\n",
       "      <td>78</td>\n",
       "      <td>46</td>\n",
       "      <td>53</td>\n",
       "      <td>44</td>\n",
       "      <td>46</td>\n",
       "      <td>100</td>\n",
       "      <td>88</td>\n",
       "      <td>0</td>\n",
       "      <td>1</td>\n",
       "    </tr>\n",
       "    <tr>\n",
       "      <th>4</th>\n",
       "      <td>237</td>\n",
       "      <td>223</td>\n",
       "      <td>231</td>\n",
       "      <td>138</td>\n",
       "      <td>134</td>\n",
       "      <td>134</td>\n",
       "      <td>182</td>\n",
       "      <td>172</td>\n",
       "      <td>176</td>\n",
       "      <td>237</td>\n",
       "      <td>165</td>\n",
       "      <td>168</td>\n",
       "      <td>1</td>\n",
       "      <td>0</td>\n",
       "    </tr>\n",
       "    <tr>\n",
       "      <th>...</th>\n",
       "      <td>...</td>\n",
       "      <td>...</td>\n",
       "      <td>...</td>\n",
       "      <td>...</td>\n",
       "      <td>...</td>\n",
       "      <td>...</td>\n",
       "      <td>...</td>\n",
       "      <td>...</td>\n",
       "      <td>...</td>\n",
       "      <td>...</td>\n",
       "      <td>...</td>\n",
       "      <td>...</td>\n",
       "      <td>...</td>\n",
       "      <td>...</td>\n",
       "    </tr>\n",
       "    <tr>\n",
       "      <th>5</th>\n",
       "      <td>84</td>\n",
       "      <td>86</td>\n",
       "      <td>76</td>\n",
       "      <td>51</td>\n",
       "      <td>53</td>\n",
       "      <td>45</td>\n",
       "      <td>25</td>\n",
       "      <td>27</td>\n",
       "      <td>22</td>\n",
       "      <td>48</td>\n",
       "      <td>60</td>\n",
       "      <td>52</td>\n",
       "      <td>0</td>\n",
       "      <td>1</td>\n",
       "    </tr>\n",
       "    <tr>\n",
       "      <th>6</th>\n",
       "      <td>33</td>\n",
       "      <td>118</td>\n",
       "      <td>35</td>\n",
       "      <td>24</td>\n",
       "      <td>66</td>\n",
       "      <td>24</td>\n",
       "      <td>16</td>\n",
       "      <td>34</td>\n",
       "      <td>16</td>\n",
       "      <td>25</td>\n",
       "      <td>78</td>\n",
       "      <td>26</td>\n",
       "      <td>0</td>\n",
       "      <td>1</td>\n",
       "    </tr>\n",
       "    <tr>\n",
       "      <th>7</th>\n",
       "      <td>115</td>\n",
       "      <td>96</td>\n",
       "      <td>117</td>\n",
       "      <td>69</td>\n",
       "      <td>59</td>\n",
       "      <td>71</td>\n",
       "      <td>33</td>\n",
       "      <td>31</td>\n",
       "      <td>35</td>\n",
       "      <td>23</td>\n",
       "      <td>67</td>\n",
       "      <td>81</td>\n",
       "      <td>0</td>\n",
       "      <td>1</td>\n",
       "    </tr>\n",
       "    <tr>\n",
       "      <th>8</th>\n",
       "      <td>18</td>\n",
       "      <td>33</td>\n",
       "      <td>20</td>\n",
       "      <td>12</td>\n",
       "      <td>21</td>\n",
       "      <td>13</td>\n",
       "      <td>14</td>\n",
       "      <td>20</td>\n",
       "      <td>15</td>\n",
       "      <td>13</td>\n",
       "      <td>24</td>\n",
       "      <td>15</td>\n",
       "      <td>0</td>\n",
       "      <td>1</td>\n",
       "    </tr>\n",
       "    <tr>\n",
       "      <th>9</th>\n",
       "      <td>79</td>\n",
       "      <td>86</td>\n",
       "      <td>79</td>\n",
       "      <td>101</td>\n",
       "      <td>105</td>\n",
       "      <td>99</td>\n",
       "      <td>131</td>\n",
       "      <td>133</td>\n",
       "      <td>129</td>\n",
       "      <td>130</td>\n",
       "      <td>103</td>\n",
       "      <td>96</td>\n",
       "      <td>1</td>\n",
       "      <td>0</td>\n",
       "    </tr>\n",
       "  </tbody>\n",
       "</table>\n",
       "<p>110 rows × 14 columns</p>\n",
       "</div>"
      ],
      "text/plain": [
       "    (p) R  R (2)  R (5)  (p) G  G (2)  G (5)  (p) B  B (2)  B (5)  \\\n",
       "0      41     49     40     30     36     28     25     28     20   \n",
       "1     189    188    182     81     88     80     76     82     74   \n",
       "2     139    133    135    163    156    159     79     88     82   \n",
       "3     123    138    124     78     89     78     46     53     44   \n",
       "4     237    223    231    138    134    134    182    172    176   \n",
       "..    ...    ...    ...    ...    ...    ...    ...    ...    ...   \n",
       "5      84     86     76     51     53     45     25     27     22   \n",
       "6      33    118     35     24     66     24     16     34     16   \n",
       "7     115     96    117     69     59     71     33     31     35   \n",
       "8      18     33     20     12     21     13     14     20     15   \n",
       "9      79     86     79    101    105     99    131    133    129   \n",
       "\n",
       "    (p) GreyScale  GreyScale (2)  GreyScale (5)  garut  solo  \n",
       "0              37             39             31      0     1  \n",
       "1              78            117            110      1     0  \n",
       "2             162            141            143      1     0  \n",
       "3              46            100             88      0     1  \n",
       "4             237            165            168      1     0  \n",
       "..            ...            ...            ...    ...   ...  \n",
       "5              48             60             52      0     1  \n",
       "6              25             78             26      0     1  \n",
       "7              23             67             81      0     1  \n",
       "8              13             24             15      0     1  \n",
       "9             130            103             96      1     0  \n",
       "\n",
       "[110 rows x 14 columns]"
      ]
     },
     "execution_count": 1875,
     "metadata": {},
     "output_type": "execute_result"
    }
   ],
   "source": [
    "df = pd.concat([df_train,df_test])\n",
    "df"
   ]
  },
  {
   "cell_type": "code",
   "execution_count": 1876,
   "metadata": {},
   "outputs": [],
   "source": [
    "X = df[df.columns[:-2]].values\n",
    "y1 = df[df.columns[-1]].values\n",
    "y2 = df[df.columns[-2]].values\n",
    "Y = pd.DataFrame({\"garut\":y2,\n",
    "                    \"solo\":y1}).values"
   ]
  },
  {
   "cell_type": "code",
   "execution_count": 1877,
   "metadata": {},
   "outputs": [
    {
     "data": {
      "text/plain": [
       "array([[0, 1],\n",
       "       [1, 0],\n",
       "       [1, 0],\n",
       "       [0, 1],\n",
       "       [1, 0],\n",
       "       [0, 1],\n",
       "       [0, 1],\n",
       "       [1, 0],\n",
       "       [0, 1],\n",
       "       [1, 0],\n",
       "       [1, 0],\n",
       "       [1, 0],\n",
       "       [0, 1],\n",
       "       [0, 1],\n",
       "       [1, 0],\n",
       "       [1, 0],\n",
       "       [1, 0],\n",
       "       [0, 1],\n",
       "       [0, 1],\n",
       "       [0, 1],\n",
       "       [1, 0],\n",
       "       [0, 1],\n",
       "       [1, 0],\n",
       "       [1, 0],\n",
       "       [1, 0],\n",
       "       [0, 1],\n",
       "       [0, 1],\n",
       "       [0, 1],\n",
       "       [1, 0],\n",
       "       [0, 1],\n",
       "       [1, 0],\n",
       "       [1, 0],\n",
       "       [1, 0],\n",
       "       [0, 1],\n",
       "       [0, 1],\n",
       "       [0, 1],\n",
       "       [0, 1],\n",
       "       [0, 1],\n",
       "       [0, 1],\n",
       "       [0, 1],\n",
       "       [1, 0],\n",
       "       [1, 0],\n",
       "       [1, 0],\n",
       "       [1, 0],\n",
       "       [1, 0],\n",
       "       [1, 0],\n",
       "       [1, 0],\n",
       "       [0, 1],\n",
       "       [0, 1],\n",
       "       [1, 0],\n",
       "       [1, 0],\n",
       "       [0, 1],\n",
       "       [1, 0],\n",
       "       [0, 1],\n",
       "       [1, 0],\n",
       "       [1, 0],\n",
       "       [1, 0],\n",
       "       [1, 0],\n",
       "       [0, 1],\n",
       "       [1, 0],\n",
       "       [0, 1],\n",
       "       [0, 1],\n",
       "       [0, 1],\n",
       "       [0, 1],\n",
       "       [1, 0],\n",
       "       [0, 1],\n",
       "       [1, 0],\n",
       "       [0, 1],\n",
       "       [1, 0],\n",
       "       [0, 1],\n",
       "       [0, 1],\n",
       "       [0, 1],\n",
       "       [1, 0],\n",
       "       [0, 1],\n",
       "       [0, 1],\n",
       "       [0, 1],\n",
       "       [0, 1],\n",
       "       [1, 0],\n",
       "       [0, 1],\n",
       "       [0, 1],\n",
       "       [0, 1],\n",
       "       [1, 0],\n",
       "       [0, 1],\n",
       "       [1, 0],\n",
       "       [1, 0],\n",
       "       [0, 1],\n",
       "       [1, 0],\n",
       "       [1, 0],\n",
       "       [1, 0],\n",
       "       [0, 1],\n",
       "       [1, 0],\n",
       "       [1, 0],\n",
       "       [1, 0],\n",
       "       [0, 1],\n",
       "       [0, 1],\n",
       "       [0, 1],\n",
       "       [0, 1],\n",
       "       [1, 0],\n",
       "       [1, 0],\n",
       "       [1, 0],\n",
       "       [1, 0],\n",
       "       [1, 0],\n",
       "       [0, 1],\n",
       "       [1, 0],\n",
       "       [1, 0],\n",
       "       [0, 1],\n",
       "       [0, 1],\n",
       "       [0, 1],\n",
       "       [0, 1],\n",
       "       [1, 0]], dtype=int64)"
      ]
     },
     "execution_count": 1877,
     "metadata": {},
     "output_type": "execute_result"
    }
   ],
   "source": [
    "Y"
   ]
  },
  {
   "cell_type": "code",
   "execution_count": 1878,
   "metadata": {},
   "outputs": [],
   "source": [
    "scaler = StandardScaler()\n",
    "X = scaler.fit_transform(X)\n",
    "# data = np.hstack((X, np.reshape(Y, (-1, 1))))\n",
    "data = np.hstack((X, Y))\n",
    "transformed_df = pd.DataFrame(data, columns=df.columns)"
   ]
  },
  {
   "cell_type": "code",
   "execution_count": 1879,
   "metadata": {},
   "outputs": [
    {
     "data": {
      "text/html": [
       "<div>\n",
       "<style scoped>\n",
       "    .dataframe tbody tr th:only-of-type {\n",
       "        vertical-align: middle;\n",
       "    }\n",
       "\n",
       "    .dataframe tbody tr th {\n",
       "        vertical-align: top;\n",
       "    }\n",
       "\n",
       "    .dataframe thead th {\n",
       "        text-align: right;\n",
       "    }\n",
       "</style>\n",
       "<table border=\"1\" class=\"dataframe\">\n",
       "  <thead>\n",
       "    <tr style=\"text-align: right;\">\n",
       "      <th></th>\n",
       "      <th>(p) R</th>\n",
       "      <th>R (2)</th>\n",
       "      <th>R (5)</th>\n",
       "      <th>(p) G</th>\n",
       "      <th>G (2)</th>\n",
       "      <th>G (5)</th>\n",
       "      <th>(p) B</th>\n",
       "      <th>B (2)</th>\n",
       "      <th>B (5)</th>\n",
       "      <th>(p) GreyScale</th>\n",
       "      <th>GreyScale (2)</th>\n",
       "      <th>GreyScale (5)</th>\n",
       "      <th>garut</th>\n",
       "      <th>solo</th>\n",
       "    </tr>\n",
       "  </thead>\n",
       "  <tbody>\n",
       "    <tr>\n",
       "      <th>0</th>\n",
       "      <td>-1.081936</td>\n",
       "      <td>-1.173729</td>\n",
       "      <td>-1.019893</td>\n",
       "      <td>-0.849367</td>\n",
       "      <td>-1.006746</td>\n",
       "      <td>-0.928246</td>\n",
       "      <td>-0.754293</td>\n",
       "      <td>-0.906461</td>\n",
       "      <td>-0.866405</td>\n",
       "      <td>-0.755211</td>\n",
       "      <td>-1.096895</td>\n",
       "      <td>-0.987503</td>\n",
       "      <td>0.0</td>\n",
       "      <td>1.0</td>\n",
       "    </tr>\n",
       "    <tr>\n",
       "      <th>1</th>\n",
       "      <td>0.665477</td>\n",
       "      <td>0.860770</td>\n",
       "      <td>0.812911</td>\n",
       "      <td>-0.126419</td>\n",
       "      <td>-0.217466</td>\n",
       "      <td>-0.209669</td>\n",
       "      <td>-0.091243</td>\n",
       "      <td>-0.092742</td>\n",
       "      <td>-0.120002</td>\n",
       "      <td>-0.282877</td>\n",
       "      <td>0.130300</td>\n",
       "      <td>0.129722</td>\n",
       "      <td>1.0</td>\n",
       "      <td>0.0</td>\n",
       "    </tr>\n",
       "    <tr>\n",
       "      <th>2</th>\n",
       "      <td>0.075134</td>\n",
       "      <td>0.055752</td>\n",
       "      <td>0.206278</td>\n",
       "      <td>1.035967</td>\n",
       "      <td>0.814669</td>\n",
       "      <td>0.882016</td>\n",
       "      <td>-0.052240</td>\n",
       "      <td>-0.002329</td>\n",
       "      <td>-0.009424</td>\n",
       "      <td>0.684832</td>\n",
       "      <td>0.507899</td>\n",
       "      <td>0.596410</td>\n",
       "      <td>1.0</td>\n",
       "      <td>0.0</td>\n",
       "    </tr>\n",
       "    <tr>\n",
       "      <th>3</th>\n",
       "      <td>-0.113775</td>\n",
       "      <td>0.128936</td>\n",
       "      <td>0.064301</td>\n",
       "      <td>-0.168946</td>\n",
       "      <td>-0.202287</td>\n",
       "      <td>-0.237306</td>\n",
       "      <td>-0.481272</td>\n",
       "      <td>-0.529739</td>\n",
       "      <td>-0.534671</td>\n",
       "      <td>-0.651528</td>\n",
       "      <td>-0.137165</td>\n",
       "      <td>-0.181404</td>\n",
       "      <td>0.0</td>\n",
       "      <td>1.0</td>\n",
       "    </tr>\n",
       "    <tr>\n",
       "      <th>4</th>\n",
       "      <td>1.232205</td>\n",
       "      <td>1.373054</td>\n",
       "      <td>1.445357</td>\n",
       "      <td>0.681581</td>\n",
       "      <td>0.480743</td>\n",
       "      <td>0.536546</td>\n",
       "      <td>1.286860</td>\n",
       "      <td>1.263456</td>\n",
       "      <td>1.289869</td>\n",
       "      <td>1.548858</td>\n",
       "      <td>0.885497</td>\n",
       "      <td>0.949963</td>\n",
       "      <td>1.0</td>\n",
       "      <td>0.0</td>\n",
       "    </tr>\n",
       "    <tr>\n",
       "      <th>...</th>\n",
       "      <td>...</td>\n",
       "      <td>...</td>\n",
       "      <td>...</td>\n",
       "      <td>...</td>\n",
       "      <td>...</td>\n",
       "      <td>...</td>\n",
       "      <td>...</td>\n",
       "      <td>...</td>\n",
       "      <td>...</td>\n",
       "      <td>...</td>\n",
       "      <td>...</td>\n",
       "      <td>...</td>\n",
       "      <td>...</td>\n",
       "      <td>...</td>\n",
       "    </tr>\n",
       "    <tr>\n",
       "      <th>105</th>\n",
       "      <td>-0.574242</td>\n",
       "      <td>-0.632172</td>\n",
       "      <td>-0.555239</td>\n",
       "      <td>-0.551683</td>\n",
       "      <td>-0.748712</td>\n",
       "      <td>-0.693327</td>\n",
       "      <td>-0.754293</td>\n",
       "      <td>-0.921530</td>\n",
       "      <td>-0.838761</td>\n",
       "      <td>-0.628487</td>\n",
       "      <td>-0.766496</td>\n",
       "      <td>-0.690520</td>\n",
       "      <td>0.0</td>\n",
       "      <td>1.0</td>\n",
       "    </tr>\n",
       "    <tr>\n",
       "      <th>106</th>\n",
       "      <td>-1.176391</td>\n",
       "      <td>-0.163798</td>\n",
       "      <td>-1.084429</td>\n",
       "      <td>-0.934420</td>\n",
       "      <td>-0.551392</td>\n",
       "      <td>-0.983521</td>\n",
       "      <td>-0.871302</td>\n",
       "      <td>-0.816048</td>\n",
       "      <td>-0.921694</td>\n",
       "      <td>-0.893455</td>\n",
       "      <td>-0.483297</td>\n",
       "      <td>-1.058214</td>\n",
       "      <td>0.0</td>\n",
       "      <td>1.0</td>\n",
       "    </tr>\n",
       "    <tr>\n",
       "      <th>107</th>\n",
       "      <td>-0.208230</td>\n",
       "      <td>-0.485805</td>\n",
       "      <td>-0.026049</td>\n",
       "      <td>-0.296525</td>\n",
       "      <td>-0.657641</td>\n",
       "      <td>-0.334038</td>\n",
       "      <td>-0.650285</td>\n",
       "      <td>-0.861254</td>\n",
       "      <td>-0.659071</td>\n",
       "      <td>-0.916496</td>\n",
       "      <td>-0.656363</td>\n",
       "      <td>-0.280399</td>\n",
       "      <td>0.0</td>\n",
       "      <td>1.0</td>\n",
       "    </tr>\n",
       "    <tr>\n",
       "      <th>108</th>\n",
       "      <td>-1.353494</td>\n",
       "      <td>-1.407916</td>\n",
       "      <td>-1.278035</td>\n",
       "      <td>-1.104525</td>\n",
       "      <td>-1.234423</td>\n",
       "      <td>-1.135528</td>\n",
       "      <td>-0.897304</td>\n",
       "      <td>-1.027012</td>\n",
       "      <td>-0.935516</td>\n",
       "      <td>-1.031699</td>\n",
       "      <td>-1.332894</td>\n",
       "      <td>-1.213777</td>\n",
       "      <td>0.0</td>\n",
       "      <td>1.0</td>\n",
       "    </tr>\n",
       "    <tr>\n",
       "      <th>109</th>\n",
       "      <td>-0.633276</td>\n",
       "      <td>-0.632172</td>\n",
       "      <td>-0.516517</td>\n",
       "      <td>0.157090</td>\n",
       "      <td>0.040568</td>\n",
       "      <td>0.052888</td>\n",
       "      <td>0.623810</td>\n",
       "      <td>0.675770</td>\n",
       "      <td>0.640222</td>\n",
       "      <td>0.316181</td>\n",
       "      <td>-0.089966</td>\n",
       "      <td>-0.068268</td>\n",
       "      <td>1.0</td>\n",
       "      <td>0.0</td>\n",
       "    </tr>\n",
       "  </tbody>\n",
       "</table>\n",
       "<p>110 rows × 14 columns</p>\n",
       "</div>"
      ],
      "text/plain": [
       "        (p) R     R (2)     R (5)     (p) G     G (2)     G (5)     (p) B  \\\n",
       "0   -1.081936 -1.173729 -1.019893 -0.849367 -1.006746 -0.928246 -0.754293   \n",
       "1    0.665477  0.860770  0.812911 -0.126419 -0.217466 -0.209669 -0.091243   \n",
       "2    0.075134  0.055752  0.206278  1.035967  0.814669  0.882016 -0.052240   \n",
       "3   -0.113775  0.128936  0.064301 -0.168946 -0.202287 -0.237306 -0.481272   \n",
       "4    1.232205  1.373054  1.445357  0.681581  0.480743  0.536546  1.286860   \n",
       "..        ...       ...       ...       ...       ...       ...       ...   \n",
       "105 -0.574242 -0.632172 -0.555239 -0.551683 -0.748712 -0.693327 -0.754293   \n",
       "106 -1.176391 -0.163798 -1.084429 -0.934420 -0.551392 -0.983521 -0.871302   \n",
       "107 -0.208230 -0.485805 -0.026049 -0.296525 -0.657641 -0.334038 -0.650285   \n",
       "108 -1.353494 -1.407916 -1.278035 -1.104525 -1.234423 -1.135528 -0.897304   \n",
       "109 -0.633276 -0.632172 -0.516517  0.157090  0.040568  0.052888  0.623810   \n",
       "\n",
       "        B (2)     B (5)  (p) GreyScale  GreyScale (2)  GreyScale (5)  garut  \\\n",
       "0   -0.906461 -0.866405      -0.755211      -1.096895      -0.987503    0.0   \n",
       "1   -0.092742 -0.120002      -0.282877       0.130300       0.129722    1.0   \n",
       "2   -0.002329 -0.009424       0.684832       0.507899       0.596410    1.0   \n",
       "3   -0.529739 -0.534671      -0.651528      -0.137165      -0.181404    0.0   \n",
       "4    1.263456  1.289869       1.548858       0.885497       0.949963    1.0   \n",
       "..        ...       ...            ...            ...            ...    ...   \n",
       "105 -0.921530 -0.838761      -0.628487      -0.766496      -0.690520    0.0   \n",
       "106 -0.816048 -0.921694      -0.893455      -0.483297      -1.058214    0.0   \n",
       "107 -0.861254 -0.659071      -0.916496      -0.656363      -0.280399    0.0   \n",
       "108 -1.027012 -0.935516      -1.031699      -1.332894      -1.213777    0.0   \n",
       "109  0.675770  0.640222       0.316181      -0.089966      -0.068268    1.0   \n",
       "\n",
       "     solo  \n",
       "0     1.0  \n",
       "1     0.0  \n",
       "2     0.0  \n",
       "3     1.0  \n",
       "4     0.0  \n",
       "..    ...  \n",
       "105   1.0  \n",
       "106   1.0  \n",
       "107   1.0  \n",
       "108   1.0  \n",
       "109   0.0  \n",
       "\n",
       "[110 rows x 14 columns]"
      ]
     },
     "execution_count": 1879,
     "metadata": {},
     "output_type": "execute_result"
    }
   ],
   "source": [
    "transformed_df"
   ]
  },
  {
   "cell_type": "code",
   "execution_count": 1880,
   "metadata": {},
   "outputs": [
    {
     "data": {
      "text/plain": [
       "(55, 55)"
      ]
     },
     "execution_count": 1880,
     "metadata": {},
     "output_type": "execute_result"
    }
   ],
   "source": [
    "len(transformed_df[transformed_df[\"garut\"]==1]), len(transformed_df[transformed_df[\"solo\"]==0])"
   ]
  },
  {
   "cell_type": "code",
   "execution_count": 1881,
   "metadata": {},
   "outputs": [
    {
     "data": {
      "text/plain": [
       "(100, 2)"
      ]
     },
     "execution_count": 1881,
     "metadata": {},
     "output_type": "execute_result"
    }
   ],
   "source": [
    "X[:100].shape\n",
    "Y[:100].shape"
   ]
  },
  {
   "cell_type": "code",
   "execution_count": 1882,
   "metadata": {},
   "outputs": [],
   "source": [
    "X_train, X_valid, Y_train, Y_valid = train_test_split(X[:100], Y[:100], test_size=0.8, random_state=0)"
   ]
  },
  {
   "cell_type": "code",
   "execution_count": 1883,
   "metadata": {},
   "outputs": [],
   "source": [
    "model = tf.keras.Sequential([\n",
    "                             tf.keras.layers.Dense(12, activation='relu'), # if x <= 0 --> 0, x > 0 --> x\n",
    "                             tf.keras.layers.Dense(24, activation='relu'), #bisa ganti\n",
    "                             tf.keras.layers.Dense(2, activation=\"sigmoid\") #bisa ditambah\n",
    "])"
   ]
  },
  {
   "cell_type": "code",
   "execution_count": 1884,
   "metadata": {},
   "outputs": [],
   "source": [
    "model.compile(optimizer=tf.keras.optimizers.Adam(learning_rate=0.01), #ganti\n",
    "              loss=tf.keras.losses.BinaryCrossentropy(), #ganti\n",
    "              metrics=['accuracy'])"
   ]
  },
  {
   "cell_type": "code",
   "execution_count": 1885,
   "metadata": {},
   "outputs": [
    {
     "name": "stdout",
     "output_type": "stream",
     "text": [
      "1/1 [==============================] - 1s 937ms/step - loss: 0.6347 - accuracy: 0.4500\n"
     ]
    },
    {
     "data": {
      "text/plain": [
       "[0.6346992254257202, 0.44999998807907104]"
      ]
     },
     "execution_count": 1885,
     "metadata": {},
     "output_type": "execute_result"
    }
   ],
   "source": [
    "model.evaluate(X_train, Y_train)"
   ]
  },
  {
   "cell_type": "code",
   "execution_count": 1886,
   "metadata": {},
   "outputs": [
    {
     "name": "stdout",
     "output_type": "stream",
     "text": [
      "3/3 [==============================] - 0s 6ms/step - loss: 0.6456 - accuracy: 0.5000\n"
     ]
    },
    {
     "data": {
      "text/plain": [
       "[0.6455541253089905, 0.5]"
      ]
     },
     "execution_count": 1886,
     "metadata": {},
     "output_type": "execute_result"
    }
   ],
   "source": [
    "model.evaluate(X_valid, Y_valid)"
   ]
  },
  {
   "cell_type": "code",
   "execution_count": 1887,
   "metadata": {},
   "outputs": [
    {
     "name": "stdout",
     "output_type": "stream",
     "text": [
      "Epoch 1/20\n",
      "2/2 [==============================] - 2s 182ms/step - loss: 0.6228 - accuracy: 0.5000 - val_loss: 0.5493 - val_accuracy: 0.8250\n",
      "Epoch 2/20\n",
      "2/2 [==============================] - 0s 109ms/step - loss: 0.4998 - accuracy: 0.8500 - val_loss: 0.4635 - val_accuracy: 0.8375\n",
      "Epoch 3/20\n",
      "2/2 [==============================] - 0s 115ms/step - loss: 0.4046 - accuracy: 0.8500 - val_loss: 0.3886 - val_accuracy: 0.8375\n",
      "Epoch 4/20\n",
      "2/2 [==============================] - 0s 94ms/step - loss: 0.3151 - accuracy: 0.8500 - val_loss: 0.3316 - val_accuracy: 0.8375\n",
      "Epoch 5/20\n",
      "2/2 [==============================] - 0s 73ms/step - loss: 0.2464 - accuracy: 0.8500 - val_loss: 0.3011 - val_accuracy: 0.8500\n",
      "Epoch 6/20\n",
      "2/2 [==============================] - 0s 69ms/step - loss: 0.1957 - accuracy: 0.8500 - val_loss: 0.2942 - val_accuracy: 0.8500\n",
      "Epoch 7/20\n",
      "2/2 [==============================] - 0s 86ms/step - loss: 0.1575 - accuracy: 0.9500 - val_loss: 0.3084 - val_accuracy: 0.8500\n",
      "Epoch 8/20\n",
      "2/2 [==============================] - 0s 71ms/step - loss: 0.1237 - accuracy: 0.9500 - val_loss: 0.3423 - val_accuracy: 0.8375\n",
      "Epoch 9/20\n",
      "2/2 [==============================] - 0s 70ms/step - loss: 0.0956 - accuracy: 1.0000 - val_loss: 0.3902 - val_accuracy: 0.8250\n",
      "Epoch 10/20\n",
      "2/2 [==============================] - 0s 78ms/step - loss: 0.0748 - accuracy: 1.0000 - val_loss: 0.4460 - val_accuracy: 0.8000\n",
      "Epoch 11/20\n",
      "2/2 [==============================] - 0s 76ms/step - loss: 0.0537 - accuracy: 1.0000 - val_loss: 0.5052 - val_accuracy: 0.8000\n",
      "Epoch 12/20\n",
      "2/2 [==============================] - 0s 113ms/step - loss: 0.0401 - accuracy: 1.0000 - val_loss: 0.5708 - val_accuracy: 0.8000\n",
      "Epoch 13/20\n",
      "2/2 [==============================] - 0s 188ms/step - loss: 0.0301 - accuracy: 1.0000 - val_loss: 0.6368 - val_accuracy: 0.8000\n",
      "Epoch 14/20\n",
      "2/2 [==============================] - 0s 188ms/step - loss: 0.0223 - accuracy: 1.0000 - val_loss: 0.6967 - val_accuracy: 0.8000\n",
      "Epoch 15/20\n",
      "2/2 [==============================] - 0s 153ms/step - loss: 0.0166 - accuracy: 1.0000 - val_loss: 0.7545 - val_accuracy: 0.8000\n",
      "Epoch 16/20\n",
      "2/2 [==============================] - 0s 86ms/step - loss: 0.0121 - accuracy: 1.0000 - val_loss: 0.8095 - val_accuracy: 0.8000\n",
      "Epoch 17/20\n",
      "2/2 [==============================] - 0s 92ms/step - loss: 0.0090 - accuracy: 1.0000 - val_loss: 0.8611 - val_accuracy: 0.8125\n",
      "Epoch 18/20\n",
      "2/2 [==============================] - 0s 80ms/step - loss: 0.0068 - accuracy: 1.0000 - val_loss: 0.9071 - val_accuracy: 0.8125\n",
      "Epoch 19/20\n",
      "2/2 [==============================] - 0s 72ms/step - loss: 0.0052 - accuracy: 1.0000 - val_loss: 0.9472 - val_accuracy: 0.8125\n",
      "Epoch 20/20\n",
      "2/2 [==============================] - 0s 63ms/step - loss: 0.0041 - accuracy: 1.0000 - val_loss: 0.9824 - val_accuracy: 0.8125\n"
     ]
    },
    {
     "data": {
      "text/plain": [
       "<keras.callbacks.History at 0x1a6c85a4e50>"
      ]
     },
     "execution_count": 1887,
     "metadata": {},
     "output_type": "execute_result"
    }
   ],
   "source": [
    "model.fit(X_train, Y_train, batch_size=16, epochs=20, validation_data=(X_valid, Y_valid))"
   ]
  },
  {
   "cell_type": "code",
   "execution_count": 1888,
   "metadata": {},
   "outputs": [],
   "source": [
    "X_test = X[100:]\n"
   ]
  },
  {
   "cell_type": "code",
   "execution_count": 1889,
   "metadata": {},
   "outputs": [],
   "source": [
    "#model.save"
   ]
  },
  {
   "cell_type": "code",
   "execution_count": 1890,
   "metadata": {},
   "outputs": [
    {
     "name": "stdout",
     "output_type": "stream",
     "text": [
      "1/1 [==============================] - 0s 151ms/step\n"
     ]
    }
   ],
   "source": [
    "result = model.predict(X_test)"
   ]
  },
  {
   "cell_type": "code",
   "execution_count": 1891,
   "metadata": {},
   "outputs": [
    {
     "data": {
      "text/plain": [
       "array([[9.9998343e-01, 2.9003952e-05],\n",
       "       [9.9999881e-01, 2.3488592e-06],\n",
       "       [3.9513120e-03, 9.9862880e-01],\n",
       "       [9.8036319e-01, 2.1744110e-02],\n",
       "       [9.6723425e-01, 3.8067225e-02],\n",
       "       [2.0654541e-05, 9.9999505e-01],\n",
       "       [1.8190103e-05, 9.9999779e-01],\n",
       "       [4.4489279e-05, 9.9998367e-01],\n",
       "       [3.8278239e-07, 9.9999994e-01],\n",
       "       [9.2773068e-01, 8.6170733e-02]], dtype=float32)"
      ]
     },
     "execution_count": 1891,
     "metadata": {},
     "output_type": "execute_result"
    }
   ],
   "source": [
    "persenan =result\n",
    "persenan"
   ]
  },
  {
   "cell_type": "code",
   "execution_count": 1892,
   "metadata": {},
   "outputs": [],
   "source": [
    "a = np.hsplit(result,2)"
   ]
  },
  {
   "cell_type": "code",
   "execution_count": 1893,
   "metadata": {},
   "outputs": [],
   "source": [
    "kiri = a[0]"
   ]
  },
  {
   "cell_type": "code",
   "execution_count": 1894,
   "metadata": {},
   "outputs": [],
   "source": [
    "kanan = a[1]"
   ]
  },
  {
   "cell_type": "code",
   "execution_count": 1895,
   "metadata": {},
   "outputs": [
    {
     "name": "stdout",
     "output_type": "stream",
     "text": [
      "[1,0] = Garut\n",
      "[1,0] = Garut\n",
      "[0,1] = Solo\n",
      "[1,0] = Garut\n",
      "[1,0] = Garut\n",
      "[0,1] = Solo\n",
      "[0,1] = Solo\n",
      "[0,1] = Solo\n",
      "[0,1] = Solo\n",
      "[1,0] = Garut\n"
     ]
    }
   ],
   "source": [
    "for i in range(10):\n",
    "    for j in range(1):\n",
    "        if kiri[i][j] < kanan[i][j]:\n",
    "            print(\"[0,1] = Solo\")\n",
    "        else:\n",
    "            print(\"[1,0] = Garut\")"
   ]
  },
  {
   "cell_type": "code",
   "execution_count": 1896,
   "metadata": {},
   "outputs": [],
   "source": [
    "result = np.around(result)"
   ]
  },
  {
   "cell_type": "code",
   "execution_count": 1897,
   "metadata": {},
   "outputs": [
    {
     "data": {
      "text/plain": [
       "array([[1., 0.],\n",
       "       [1., 0.],\n",
       "       [0., 1.],\n",
       "       [1., 0.],\n",
       "       [1., 0.],\n",
       "       [0., 1.],\n",
       "       [0., 1.],\n",
       "       [0., 1.],\n",
       "       [0., 1.],\n",
       "       [1., 0.]], dtype=float32)"
      ]
     },
     "execution_count": 1897,
     "metadata": {},
     "output_type": "execute_result"
    }
   ],
   "source": [
    "result"
   ]
  },
  {
   "cell_type": "code",
   "execution_count": 1898,
   "metadata": {},
   "outputs": [
    {
     "name": "stdout",
     "output_type": "stream",
     "text": [
      "        Garut     Solo\n"
     ]
    },
    {
     "data": {
      "text/plain": [
       "array([[9.9998343e-01, 2.9003952e-05],\n",
       "       [9.9999881e-01, 2.3488592e-06],\n",
       "       [3.9513120e-03, 9.9862880e-01],\n",
       "       [9.8036319e-01, 2.1744110e-02],\n",
       "       [9.6723425e-01, 3.8067225e-02],\n",
       "       [2.0654541e-05, 9.9999505e-01],\n",
       "       [1.8190103e-05, 9.9999779e-01],\n",
       "       [4.4489279e-05, 9.9998367e-01],\n",
       "       [3.8278239e-07, 9.9999994e-01],\n",
       "       [9.2773068e-01, 8.6170733e-02]], dtype=float32)"
      ]
     },
     "execution_count": 1898,
     "metadata": {},
     "output_type": "execute_result"
    }
   ],
   "source": [
    "print(\"        Garut     Solo\")\n",
    "persenan"
   ]
  },
  {
   "cell_type": "code",
   "execution_count": 1899,
   "metadata": {},
   "outputs": [
    {
     "name": "stdout",
     "output_type": "stream",
     "text": [
      "        Garut     Solo\n"
     ]
    },
    {
     "data": {
      "text/plain": [
       "array([[9.9998343e-01, 2.9003952e-05],\n",
       "       [9.9999881e-01, 2.3488592e-06],\n",
       "       [3.9513120e-03, 9.9862880e-01],\n",
       "       [9.8036319e-01, 2.1744110e-02],\n",
       "       [9.6723425e-01, 3.8067225e-02],\n",
       "       [2.0654541e-05, 9.9999505e-01],\n",
       "       [1.8190103e-05, 9.9999779e-01],\n",
       "       [4.4489279e-05, 9.9998367e-01],\n",
       "       [3.8278239e-07, 9.9999994e-01],\n",
       "       [9.2773068e-01, 8.6170733e-02]], dtype=float32)"
      ]
     },
     "execution_count": 1899,
     "metadata": {},
     "output_type": "execute_result"
    }
   ],
   "source": [
    "print(\"        Garut     Solo\")\n",
    "persenan"
   ]
  }
 ],
 "metadata": {
  "kernelspec": {
   "display_name": "Python 3",
   "language": "python",
   "name": "python3"
  },
  "language_info": {
   "codemirror_mode": {
    "name": "ipython",
    "version": 3
   },
   "file_extension": ".py",
   "mimetype": "text/x-python",
   "name": "python",
   "nbconvert_exporter": "python",
   "pygments_lexer": "ipython3",
   "version": "3.10.0"
  },
  "orig_nbformat": 4
 },
 "nbformat": 4,
 "nbformat_minor": 2
}
